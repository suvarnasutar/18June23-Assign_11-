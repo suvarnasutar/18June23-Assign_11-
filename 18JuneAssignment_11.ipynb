{
 "cells": [
  {
   "cell_type": "code",
   "execution_count": null,
   "id": "0f95529e",
   "metadata": {},
   "outputs": [],
   "source": [
    "######## Que 1 ########\n",
    "1. What is the role of the 'else' block in a try-except statement? Provide an example\n",
    "scenario where it would be useful."
   ]
  },
  {
   "cell_type": "code",
   "execution_count": null,
   "id": "6c17d410",
   "metadata": {},
   "outputs": [],
   "source": [
    "The try block lets you test a block of code for errors.\n",
    "\n",
    "The except block lets you handle the error.\n",
    "\n",
    "The else block lets you execute code when there is no error.\n",
    "\n"
   ]
  },
  {
   "cell_type": "code",
   "execution_count": 1,
   "id": "7eb42eb1",
   "metadata": {},
   "outputs": [
    {
     "name": "stdout",
     "output_type": "stream",
     "text": [
      "Hello\n",
      "Nothing went wrong\n"
     ]
    }
   ],
   "source": [
    "try:\n",
    "  print(\"Hello\")\n",
    "except:\n",
    "  print(\"Something went wrong\")\n",
    "else:\n",
    "  print(\"Nothing went wrong\")\n"
   ]
  },
  {
   "cell_type": "code",
   "execution_count": null,
   "id": "5eb74123",
   "metadata": {},
   "outputs": [],
   "source": []
  },
  {
   "cell_type": "code",
   "execution_count": null,
   "id": "1656112e",
   "metadata": {},
   "outputs": [],
   "source": [
    "######## Que 2 ########\n",
    "2. Can a try-except block be nested inside another try-except block? Explain with an\n",
    "example."
   ]
  },
  {
   "cell_type": "code",
   "execution_count": null,
   "id": "175e27da",
   "metadata": {},
   "outputs": [],
   "source": [
    "We can have nested try-except blocks in Python. In this case, if an exception is raised in the nested try block, the nested\n",
    "except block is used to handle it. In case the nested except is not able to handle it, the outer except blocks are used to \n",
    "handle the exception."
   ]
  },
  {
   "cell_type": "code",
   "execution_count": 4,
   "id": "dc9ba322",
   "metadata": {},
   "outputs": [
    {
     "name": "stdout",
     "output_type": "stream",
     "text": [
      "outer try block\n",
      "nested try block\n",
      "2.0\n"
     ]
    }
   ],
   "source": [
    "x = 10\n",
    "y = 5\n",
    " \n",
    "try:\n",
    "    print(\"outer try block\")\n",
    "    try:\n",
    "        print(\"nested try block\")\n",
    "        print(x / y)\n",
    "    except TypeError as te:\n",
    "        print(\"nested except block\")\n",
    "        print(te)\n",
    "except ZeroDivisionError as ze:\n",
    "    print(\"outer except block\")\n",
    "    print(ze)"
   ]
  },
  {
   "cell_type": "code",
   "execution_count": null,
   "id": "1d27ebcb",
   "metadata": {},
   "outputs": [],
   "source": []
  },
  {
   "cell_type": "code",
   "execution_count": null,
   "id": "050a054f",
   "metadata": {},
   "outputs": [],
   "source": [
    "######## Que 3 ########\n",
    "3. How can you create a custom exception class in Python? Provide an example that\n",
    "demonstrates its usage."
   ]
  },
  {
   "cell_type": "code",
   "execution_count": null,
   "id": "00b8e66d",
   "metadata": {},
   "outputs": [],
   "source": [
    "To create a custom exception class, you define a class that inherits from the built-in Exception class or one of its subclasses\n",
    "such as ValueError class:"
   ]
  },
  {
   "cell_type": "code",
   "execution_count": 6,
   "id": "70e250e1",
   "metadata": {},
   "outputs": [
    {
     "name": "stdout",
     "output_type": "stream",
     "text": [
      "Enter a number: 12\n",
      "Exception occurred: Invalid Age\n"
     ]
    }
   ],
   "source": [
    "# define Python user-defined exceptions\n",
    "class InvalidAgeException(Exception):\n",
    "    \"Raised when the input value is less than 18\"\n",
    "    pass\n",
    "\n",
    "# you need to guess this number\n",
    "number = 18\n",
    "\n",
    "try:\n",
    "    input_num = int(input(\"Enter a number: \"))\n",
    "    if input_num < number:\n",
    "        raise InvalidAgeException\n",
    "    else:\n",
    "        print(\"Eligible to Vote\")\n",
    "        \n",
    "except InvalidAgeException:\n",
    "    print(\"Exception occurred: Invalid Age\")"
   ]
  },
  {
   "cell_type": "code",
   "execution_count": null,
   "id": "ce08c660",
   "metadata": {},
   "outputs": [],
   "source": []
  },
  {
   "cell_type": "code",
   "execution_count": null,
   "id": "0325014d",
   "metadata": {},
   "outputs": [],
   "source": [
    "######## Que 4 ########\n",
    "4. What are some common exceptions that are built-in to Python?"
   ]
  },
  {
   "cell_type": "code",
   "execution_count": null,
   "id": "7ede5898",
   "metadata": {},
   "outputs": [],
   "source": [
    "1. BaseException\n",
    "2. exception Exception\n",
    "3. AttributeError\n",
    "4. TypeError\n",
    "5. ValueError\n",
    "6. KeyError\n",
    "7. IndexError\n",
    "8. FileNotFoundError\n",
    "9. ImportError\n",
    "10. ArithmeticError\n",
    "11. OverflowError"
   ]
  },
  {
   "cell_type": "code",
   "execution_count": null,
   "id": "f1d977e9",
   "metadata": {},
   "outputs": [],
   "source": []
  },
  {
   "cell_type": "code",
   "execution_count": null,
   "id": "9b4982d7",
   "metadata": {},
   "outputs": [],
   "source": [
    "######## Que 5 ########\n",
    "5. What is logging in Python, and why is it important in software development?"
   ]
  },
  {
   "cell_type": "code",
   "execution_count": null,
   "id": "299bdb3d",
   "metadata": {},
   "outputs": [],
   "source": [
    "Logging is a means of tracking events that happen when some software runs. \n",
    "Logging is important for software developing, debugging, and running. If you don't have any logging record and your program \n",
    "crashes, there are very few chances that you detect the cause of the problem."
   ]
  },
  {
   "cell_type": "code",
   "execution_count": null,
   "id": "e43bf0c1",
   "metadata": {},
   "outputs": [],
   "source": []
  },
  {
   "cell_type": "code",
   "execution_count": null,
   "id": "28583920",
   "metadata": {},
   "outputs": [],
   "source": [
    "######## Que 6 ########\n",
    "6. Explain the purpose of log levels in Python logging and provide examples of when\n",
    "each log level would be appropriate."
   ]
  },
  {
   "cell_type": "code",
   "execution_count": null,
   "id": "7cf061d1",
   "metadata": {},
   "outputs": [],
   "source": [
    "Python has a built-in module logging which allows writing status messages to a file or any other output streams. The file can \n",
    "contain information on which part of the code is executed and what problems have arisen.  \n",
    "\n",
    "Python Logging Levels\n",
    "There are five built-in levels of the log message.  \n",
    "\n",
    "Debug: These are used to give Detailed information, typically of interest only when diagnosing problems.\n",
    "Info: These are used to confirm that things are working as expected\n",
    "Warning: These are used as an indication that something unexpected happened, or is indicative of some problem in the near future\n",
    "Error: This tells that due to a more serious problem, the software has not been able to perform some function\n",
    "Critical: This tells serious error, indicating that the program itself may be unable to continue running"
   ]
  },
  {
   "cell_type": "code",
   "execution_count": null,
   "id": "025c5ed9",
   "metadata": {},
   "outputs": [],
   "source": []
  },
  {
   "cell_type": "code",
   "execution_count": null,
   "id": "a5809248",
   "metadata": {},
   "outputs": [],
   "source": [
    "######## Que 7 ########\n",
    "7. What are log formatters in Python logging, and how can you customise the log\n",
    "message format using formatters?"
   ]
  },
  {
   "cell_type": "code",
   "execution_count": null,
   "id": "4c0f802e",
   "metadata": {},
   "outputs": [],
   "source": [
    "Loggers expose the interface that application code directly uses. Handlers send the log records (created by loggers) to the \n",
    "appropriate destination. Filters provide a finer grained facility for determining which log records to output.\n",
    "   [ Formatters specify the layout of log records in the final output.]\n",
    "    \n",
    "To define a custom format on how the log messages should be rendered, you may write your own formatter and layout function(s) or\n",
    "rely on the function generator functions bundled with the logger package.    "
   ]
  },
  {
   "cell_type": "code",
   "execution_count": null,
   "id": "c9ea190d",
   "metadata": {},
   "outputs": [],
   "source": []
  },
  {
   "cell_type": "code",
   "execution_count": null,
   "id": "28c5162f",
   "metadata": {},
   "outputs": [],
   "source": [
    "######## Que 8 ########\n",
    "8. How can you set up logging to capture log messages from multiple modules or\n",
    "classes in a Python application?"
   ]
  },
  {
   "cell_type": "code",
   "execution_count": null,
   "id": "196c0184",
   "metadata": {},
   "outputs": [],
   "source": [
    "There are five built-in levels of the log message.  \n",
    "Debug: These are used to give Detailed information, typically of interest only when diagnosing problems.\n",
    "Info: These are used to confirm that things are working as expected\n",
    "Warning: These are used as an indication that something unexpected happened, or is indicative of some problem in the near future\n",
    "Error: This tells that due to a more serious problem, the software has not been able to perform some function\n",
    "Critical: This tells serious error, indicating that the program itself may be unable to continue running"
   ]
  },
  {
   "cell_type": "code",
   "execution_count": 1,
   "id": "4355d028",
   "metadata": {},
   "outputs": [
    {
     "name": "stderr",
     "output_type": "stream",
     "text": [
      "WARNING:root:This is a warning message\n",
      "ERROR:root:This is an error message\n",
      "CRITICAL:root:This is a critical message\n"
     ]
    }
   ],
   "source": [
    "import logging\n",
    "...\n",
    "logging.debug('This is a debug message')\n",
    "logging.info('This is an info message')\n",
    "logging.warning('This is a warning message')\n",
    "logging.error('This is an error message')\n",
    "logging.critical('This is a critical message')\n"
   ]
  },
  {
   "cell_type": "code",
   "execution_count": null,
   "id": "eba948ca",
   "metadata": {},
   "outputs": [],
   "source": []
  },
  {
   "cell_type": "code",
   "execution_count": null,
   "id": "4bd85565",
   "metadata": {},
   "outputs": [],
   "source": [
    "######## Que 9 ########\n",
    "9. What is the difference between the logging and print statements in Python? When\n",
    "should you use logging over print statements in a real-world application?"
   ]
  },
  {
   "cell_type": "code",
   "execution_count": 4,
   "id": "1fd82671",
   "metadata": {},
   "outputs": [],
   "source": [
    "Difference between Logging and Print in Python\n",
    "\n",
    "         Logging in Python                                                          Print in Python\n",
    "\n",
    "*Record events and errors that occur during the                 *Displays the information to the console for the\n",
    " execution of Python programs.                                   debugging purposes.\n",
    "*Mainly used in the production environment.                     *Mainly for debugging.\n",
    "*Some features are: Log levels, filtering, formatting,          *There are no good features.\n",
    " and more.\n",
    "*It provides different log levels such as Debug, Info,          *It does not have any levels, it simply prints whatever is \n",
    " Error, Warning, and Critical.                                   passed to it.\n",
    " Example:                                                        Example:\n",
    "\n",
    "import logging;                                                  print('Hello')\n",
    "logging.basicConfig(level=logging.INFO);                         Output:  \n",
    "logging.info('Hello')                                            Prints only on the console\n",
    "Output:\n",
    "                                  \n",
    "Can be configured to log to different output\n",
    "destinations(e.g. console, file, network)\n",
    "                                            \n"
   ]
  },
  {
   "cell_type": "code",
   "execution_count": null,
   "id": "b0b4ca9d",
   "metadata": {},
   "outputs": [],
   "source": []
  },
  {
   "cell_type": "code",
   "execution_count": null,
   "id": "e2412e82",
   "metadata": {},
   "outputs": [],
   "source": [
    "######## Que 10 ########\n",
    "10. Write a Python program that logs a message to a file named \"app.log\" with the\n",
    "following requirements:\n",
    "● The log message should be \"Hello, World!\"\n",
    "● The log level should be set to \"INFO.\"\n",
    "● The log file should append new log entries without overwriting previous ones."
   ]
  },
  {
   "cell_type": "code",
   "execution_count": 33,
   "id": "ff32c835",
   "metadata": {
    "scrolled": true
   },
   "outputs": [
    {
     "name": "stdout",
     "output_type": "stream",
     "text": [
      "INFO -Hello,World !\n",
      "INFO -Hello,World !\n",
      "INFO -Hello,World !\n",
      "INFO -Hello,World !\n",
      "INFO -Hello,World !\n",
      "INFO -Hello,World !\n",
      "INFO -Hello,World !\n",
      "INFO -Hello,World !\n",
      "INFO -Hello,World !\n",
      "INFO -Hello,World !\n",
      "INFO -Hello,World !\n",
      "INFO -Hello,World !\n",
      "INFO -Hello,World !\n",
      "INFO -Hello,World !\n",
      "INFO -Hello,World !\n",
      "INFO -Hello,World !\n",
      "INFO -Hello,World !\n",
      "INFO -Hello,World !\n",
      "INFO -Hello,World !\n",
      "INFO -Hello,World !\n",
      "INFO -Hello,World !\n",
      "INFO -Hello,World !\n",
      "INFO -Hello,World !\n",
      "INFO -Hello,World !\n",
      "INFO -Hello,World !\n",
      "INFO -Hello,World !\n",
      "INFO -Hello,World !\n",
      "INFO -Hello,World !\n",
      "INFO -Hello,World !\n",
      "INFO -Hello,World !\n",
      "INFO -Hello,World !\n",
      "INFO -Hello,World !\n",
      "INFO -Hello,World !\n",
      "INFO -Hello,World !\n",
      "INFO -Hello,World !\n",
      "INFO -Hello,World !\n",
      "INFO -Hello,World !\n",
      "INFO -Hello,World !\n",
      "INFO -Hello,World !\n",
      "INFO -Hello,World !\n",
      "INFO -Hello,World !\n",
      "INFO -Hello,World !\n",
      "\n"
     ]
    },
    {
     "name": "stderr",
     "output_type": "stream",
     "text": [
      "--- Logging error ---\n",
      "Traceback (most recent call last):\n",
      "  File \"C:\\Users\\DIPAK\\anaconda3\\Lib\\logging\\__init__.py\", line 1113, in emit\n",
      "    stream.write(msg + self.terminator)\n",
      "io.UnsupportedOperation: not writable\n",
      "Call stack:\n",
      "  File \"<frozen runpy>\", line 198, in _run_module_as_main\n",
      "  File \"<frozen runpy>\", line 88, in _run_code\n",
      "  File \"C:\\Users\\DIPAK\\anaconda3\\Lib\\site-packages\\ipykernel_launcher.py\", line 17, in <module>\n",
      "    app.launch_new_instance()\n",
      "  File \"C:\\Users\\DIPAK\\anaconda3\\Lib\\site-packages\\traitlets\\config\\application.py\", line 992, in launch_instance\n",
      "    app.start()\n",
      "  File \"C:\\Users\\DIPAK\\anaconda3\\Lib\\site-packages\\ipykernel\\kernelapp.py\", line 711, in start\n",
      "    self.io_loop.start()\n",
      "  File \"C:\\Users\\DIPAK\\anaconda3\\Lib\\site-packages\\tornado\\platform\\asyncio.py\", line 215, in start\n",
      "    self.asyncio_loop.run_forever()\n",
      "  File \"C:\\Users\\DIPAK\\anaconda3\\Lib\\asyncio\\base_events.py\", line 607, in run_forever\n",
      "    self._run_once()\n",
      "  File \"C:\\Users\\DIPAK\\anaconda3\\Lib\\asyncio\\base_events.py\", line 1922, in _run_once\n",
      "    handle._run()\n",
      "  File \"C:\\Users\\DIPAK\\anaconda3\\Lib\\asyncio\\events.py\", line 80, in _run\n",
      "    self._context.run(self._callback, *self._args)\n",
      "  File \"C:\\Users\\DIPAK\\anaconda3\\Lib\\site-packages\\ipykernel\\kernelbase.py\", line 510, in dispatch_queue\n",
      "    await self.process_one()\n",
      "  File \"C:\\Users\\DIPAK\\anaconda3\\Lib\\site-packages\\ipykernel\\kernelbase.py\", line 499, in process_one\n",
      "    await dispatch(*args)\n",
      "  File \"C:\\Users\\DIPAK\\anaconda3\\Lib\\site-packages\\ipykernel\\kernelbase.py\", line 406, in dispatch_shell\n",
      "    await result\n",
      "  File \"C:\\Users\\DIPAK\\anaconda3\\Lib\\site-packages\\ipykernel\\kernelbase.py\", line 729, in execute_request\n",
      "    reply_content = await reply_content\n",
      "  File \"C:\\Users\\DIPAK\\anaconda3\\Lib\\site-packages\\ipykernel\\ipkernel.py\", line 411, in do_execute\n",
      "    res = shell.run_cell(\n",
      "  File \"C:\\Users\\DIPAK\\anaconda3\\Lib\\site-packages\\ipykernel\\zmqshell.py\", line 531, in run_cell\n",
      "    return super().run_cell(*args, **kwargs)\n",
      "  File \"C:\\Users\\DIPAK\\anaconda3\\Lib\\site-packages\\IPython\\core\\interactiveshell.py\", line 3006, in run_cell\n",
      "    result = self._run_cell(\n",
      "  File \"C:\\Users\\DIPAK\\anaconda3\\Lib\\site-packages\\IPython\\core\\interactiveshell.py\", line 3061, in _run_cell\n",
      "    result = runner(coro)\n",
      "  File \"C:\\Users\\DIPAK\\anaconda3\\Lib\\site-packages\\IPython\\core\\async_helpers.py\", line 129, in _pseudo_sync_runner\n",
      "    coro.send(None)\n",
      "  File \"C:\\Users\\DIPAK\\anaconda3\\Lib\\site-packages\\IPython\\core\\interactiveshell.py\", line 3266, in run_cell_async\n",
      "    has_raised = await self.run_ast_nodes(code_ast.body, cell_name,\n",
      "  File \"C:\\Users\\DIPAK\\anaconda3\\Lib\\site-packages\\IPython\\core\\interactiveshell.py\", line 3445, in run_ast_nodes\n",
      "    if await self.run_code(code, result, async_=asy):\n",
      "  File \"C:\\Users\\DIPAK\\anaconda3\\Lib\\site-packages\\IPython\\core\\interactiveshell.py\", line 3505, in run_code\n",
      "    exec(code_obj, self.user_global_ns, self.user_ns)\n",
      "  File \"C:\\Users\\DIPAK\\AppData\\Local\\Temp\\ipykernel_5720\\654153419.py\", line 15, in <module>\n",
      "    logger.info('Hello,World !')\n",
      "Message: 'Hello,World !'\n",
      "Arguments: ()\n"
     ]
    }
   ],
   "source": [
    "import os\n",
    "import logging\n",
    "\n",
    "logger = logging.getLogger(__name__)\n",
    "logger.propagate = False\n",
    "\n",
    "f_handler = logging.FileHandler('app.log', mode='a')\n",
    "f_handler.setLevel(logging.INFO)\n",
    "\n",
    "f_format = logging.Formatter('%(levelname)s -%(message)s')\n",
    "f_handler.setFormatter(f_format)\n",
    "\n",
    "logger.addHandler(f_handler)\n",
    "\n",
    "logger.info('Hello,World !')\n",
    "\n",
    "print(open('app.log').read())"
   ]
  },
  {
   "cell_type": "code",
   "execution_count": null,
   "id": "c11f1017",
   "metadata": {},
   "outputs": [],
   "source": []
  },
  {
   "cell_type": "code",
   "execution_count": 5,
   "id": "fafbdbbf",
   "metadata": {},
   "outputs": [
    {
     "name": "stdout",
     "output_type": "stream",
     "text": [
      "C:\\Users\\DIPAK\n"
     ]
    }
   ],
   "source": [
    "import os\n",
    "print(os.getcwd())"
   ]
  },
  {
   "cell_type": "code",
   "execution_count": null,
   "id": "5f785ba0",
   "metadata": {},
   "outputs": [],
   "source": [
    "######## Que 11 ########\n",
    "11. Create a Python program that logs an error message to the console and a file named\n",
    "\"errors.log\" if an exception occurs during the program's execution. The error\n",
    "message should include the exception type and a timestamp."
   ]
  },
  {
   "cell_type": "code",
   "execution_count": 2,
   "id": "236c7dba",
   "metadata": {},
   "outputs": [
    {
     "name": "stdout",
     "output_type": "stream",
     "text": [
      "2023-09-13 00:08:09,003 - ERROR \n",
      "2023-09-13 00:08:09,003 - ERROR \n",
      "2023-09-13 00:08:09,003 - ERROR \n",
      "\u0000\u0000\u0000\u0000\u0000\u0000\u0000\u0000\u0000\u0000\u0000\u0000\u0000\u0000\u0000\u0000\u0000\u0000\u0000\u0000\u0000\u0000\u0000\u0000\u0000\u0000\u0000\u0000\u0000\u0000\u0000\u0000\u0000\u0000\u0000\u0000\u0000\u0000\u0000\u0000\u0000\u0000\u0000\u0000\u0000\u0000\u0000\u0000\u0000\u0000\u0000\u0000\u0000\u00002023-09-13 00:08:09,003 - ERROR - This is an error\n",
      "\u0000\u0000\u0000\u0000\u0000\u0000\u0000\u0000\u0000\u0000\u0000\u0000\u0000\u0000\u0000\u0000\u0000\u0000\u0000\u0000\u0000\u0000\u0000\u0000\u0000\u0000\u0000\u0000\u0000\u0000\u0000\u0000\u0000\u0000\u0000\u0000\u0000\u0000\u0000\u0000\u0000\u0000\u0000\u00002023-09-13 00:08:09,003 - __main__ - ERROR - This is an error\n",
      "\n"
     ]
    }
   ],
   "source": [
    "import os\n",
    "import logging\n",
    "\n",
    "logger = logging.getLogger(__name__)\n",
    "logger.propagate = False\n",
    "\n",
    "f_handler = logging.FileHandler('errors.log', mode='w')\n",
    "f_handler.setLevel(logging.ERROR)\n",
    "\n",
    "f_format = logging.Formatter('%(asctime)s - %(levelname)s ')\n",
    "f_handler.setFormatter(f_format)\n",
    "\n",
    "logger.addHandler(f_handler)\n",
    "\n",
    "logger.error('This is an error')\n",
    "\n",
    "print(open('file.log').read())"
   ]
  },
  {
   "cell_type": "code",
   "execution_count": null,
   "id": "298cab74",
   "metadata": {},
   "outputs": [],
   "source": []
  },
  {
   "cell_type": "code",
   "execution_count": null,
   "id": "a4535350",
   "metadata": {},
   "outputs": [],
   "source": []
  }
 ],
 "metadata": {
  "kernelspec": {
   "display_name": "Python 3 (ipykernel)",
   "language": "python",
   "name": "python3"
  },
  "language_info": {
   "codemirror_mode": {
    "name": "ipython",
    "version": 3
   },
   "file_extension": ".py",
   "mimetype": "text/x-python",
   "name": "python",
   "nbconvert_exporter": "python",
   "pygments_lexer": "ipython3",
   "version": "3.11.3"
  }
 },
 "nbformat": 4,
 "nbformat_minor": 5
}
